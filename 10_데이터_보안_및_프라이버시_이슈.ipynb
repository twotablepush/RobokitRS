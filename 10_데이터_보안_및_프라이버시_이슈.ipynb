{
  "nbformat": 4,
  "nbformat_minor": 0,
  "metadata": {
    "colab": {
      "provenance": [],
      "authorship_tag": "ABX9TyPHRYPWkEzZkK5wGk7EVg3O",
      "include_colab_link": true
    },
    "kernelspec": {
      "name": "python3",
      "display_name": "Python 3"
    },
    "language_info": {
      "name": "python"
    }
  },
  "cells": [
    {
      "cell_type": "markdown",
      "metadata": {
        "id": "view-in-github",
        "colab_type": "text"
      },
      "source": [
        "<a href=\"https://colab.research.google.com/github/twotablepush/RobokitRS/blob/main/10_%EB%8D%B0%EC%9D%B4%ED%84%B0_%EB%B3%B4%EC%95%88_%EB%B0%8F_%ED%94%84%EB%9D%BC%EC%9D%B4%EB%B2%84%EC%8B%9C_%EC%9D%B4%EC%8A%88.ipynb\" target=\"_parent\"><img src=\"https://colab.research.google.com/assets/colab-badge.svg\" alt=\"Open In Colab\"/></a>"
      ]
    },
    {
      "cell_type": "markdown",
      "source": [
        "# 데이터 보안\n",
        "- 모빌리티 시스템은 많은 양의 데이터를 생성하고 처리한다. 이러한 데이터는 차량 위치, 주행 기록, 운전 습관, 개인 식별 정보 등을 포함할 수 있다.\n",
        "\n",
        "- 데이터 보안은 이러한 데이터를 안전하게 저장, 전송 및 처리하는 것을 의미. 함호화, 접근 제어, 데이터 압축 등의 기술과 프로토콜을 사용하여 데이터의 기밀성과 무결성을 보호한다.\n",
        "\n",
        "- 데이터 저장소와 통신 네트워크에 대한 보안 조치, 해킹 및 사이버 공격에 대한 대비책을 마련하여 데이터의 안전성을 유지.\n",
        "\n",
        "# 개인정보 보호\n",
        "- 모빌리티 서비스는 운전자의 개인정보를 수집하고 활용한다. 개인정보 보호는 이러한 개인정보를 적법하고 안전하게 처리하는 것을 의미한다.\n",
        "\n",
        "- 개인정보 보호는 개인정보 수집 및 이용에 대한 동의, 목적 외 사용자의 제한, 데이터 익명화, 데이터 최소화 등의 원칙을 준수한다.\n",
        "\n",
        "- 개인정보 보호를 위해 데이터의 안전한 저장, 암호화, 접근 제어, 데이터 분석 시의 익명화 기술 등을 활용하여 개인정보의 유츌과 남용을 방지한다.\n",
        "\n",
        "- 자동차 내부 뿐만 아니라 자동차 외부에서도 생성되는 데이터의 양은 확실히 개인 데이터 보호에 위협이 되고 심각한 프라이버시 문제를 야기한다. 일부 추산에 따르면 커넥티드 카에서 시간당 25GB의 데이터가 생성된다. 이 중 대부분은 운전자의 개인 데이터와 승객의 개인 데이터 이다. 게다가 커넥티드 카에서 생성된 데이터는 집행 기관 및 정부 당국, 자동차 보험 회사, 자동차 제조업체 및 기타 제3자 등 여러 이해 관계자의 관심을 끌었다.\n",
        "\n",
        "- 주로 연결된 자동차는 텔레매틱스, V2X 및 인포테인먼트의 세 가지 기능 범주에서 데이터를 생성한다.\n",
        "\n",
        "# 데이터 접근 제어\n",
        "- 모빌리티 데이터에 접근하는 권한을 제한하여 불법적인 데이터 접근 및 남용을 방지.\n",
        "\n",
        "- 데이터 접근 제어는 암호화된 인증 및 인가 기술을 사용하여 인가된 사용자만이 데이터에 접근할 수 있도록 한다.\n",
        "\n",
        "- 데이터 접근 로그를 기록하여 데이터 접근에 대한 추적과 감시를 수행하여 보안 위협을 탐지하고 대응할 수 있다."
      ],
      "metadata": {
        "id": "9GspzqhGbFN9"
      }
    }
  ]
}