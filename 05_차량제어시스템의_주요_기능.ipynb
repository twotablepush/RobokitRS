{
  "nbformat": 4,
  "nbformat_minor": 0,
  "metadata": {
    "colab": {
      "provenance": [],
      "authorship_tag": "ABX9TyP2LG8w3QaRB/CynSqe4heQ",
      "include_colab_link": true
    },
    "kernelspec": {
      "name": "python3",
      "display_name": "Python 3"
    },
    "language_info": {
      "name": "python"
    }
  },
  "cells": [
    {
      "cell_type": "markdown",
      "metadata": {
        "id": "view-in-github",
        "colab_type": "text"
      },
      "source": [
        "<a href=\"https://colab.research.google.com/github/twotablepush/RobokitRS/blob/main/05_%EC%B0%A8%EB%9F%89%EC%A0%9C%EC%96%B4%EC%8B%9C%EC%8A%A4%ED%85%9C%EC%9D%98_%EC%A3%BC%EC%9A%94_%EA%B8%B0%EB%8A%A5.ipynb\" target=\"_parent\"><img src=\"https://colab.research.google.com/assets/colab-badge.svg\" alt=\"Open In Colab\"/></a>"
      ]
    },
    {
      "cell_type": "markdown",
      "source": [
        "# 모빌리티 안전시스템\n",
        "- AI 기술과 모빌리티가 결합함으로써 운전자와 도로 사용자들의 안전을 향상시키는 다양한 시스템\n",
        "\n",
        "1. 자동 긴급 제동 시스템 (Automatic Emergency Braking System, AEB)\n",
        " - 차량 주변의 환경을 모니터링하고, 잠재적인 충돌 위험을 감지.\n",
        " - AI 알고리즘과 센서 기술을 활용하여 충돌 위험이 식별되면 자동으로 긴급 제동을 작동시키는 기능.\n",
        " - 주행 속도, 거리, 물체의 위치 등을 고려하여 최적의 제동 조건을 계산하고, 사고를 예방하거나 충돌피해를 최소화.\n",
        "\n",
        "2. 차선 유지 보조 시스템 (Lane Keeping Assist System, LKAS)\n",
        " - 카메라 또는 센서를 사용하여 도로의 차선을 인식하고, 차량이 차선을 벗어나지 않도록 도움.\n",
        " - AI 알고리즘을 활용하여 차선을 모니터링하고, 필요에 따라 조향을 보정하여 차량이 안전하게 차선을 유지.\n",
        " - 운전자의 주의가 흐트러질 경우 경고 신호를 발생시켜 주행 안전성을 강조.\n",
        "\n",
        "3. 보행자 감지 시스템 (Pedestrian Detection System)\n",
        " - AI 모빌리티는 카메라, 레이더 등 다양한 센서를 활용하여 주변 환경을 감지하고 보행자를 식별하는 기능을 제공.\n",
        " - 인공지능 알고리즘을 사용하여 보행자의 위치, 움직임, 속도 등을 식별하고, 충돌 위험이 있을 경우 운전자에게 경고를 보내거나 긴급 제동을 작동.\n",
        " - 보행자와 차량 사이의 충돌 사고를 예방하고, 보행자의 안전을 보호하는 데 도움을 준다.\n",
        "\n",
        "4. 운전자 모니터링 시스템 (Driver Monitoring System)\n",
        " - 카메라와 AI 알고리즘을 사용하여 운전자의 상태를 모니터링하고, 주행 중에 운전자의 졸음 운전, 정신 집중력 저하, 분노 운전 등을 감지.\n",
        " - 얼굴 특징, 눈의 움직임, 몸의 자세 등을 분석하여 운전자의 주의력 상태를 판단.\n",
        " - 운전자가 졸음 운전이나 정신 집중력 저하 상태로 인식되면 경고 신호를 보내어 운전자에게 주의를 준다.\n",
        " - 운전자의 안전과 도로 위의 다른 차량 및 보행자들의 안전을 보호하는 데 기여."
      ],
      "metadata": {
        "id": "iJfPX9oR6YA7"
      }
    }
  ]
}