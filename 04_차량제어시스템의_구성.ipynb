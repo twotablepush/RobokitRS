{
  "nbformat": 4,
  "nbformat_minor": 0,
  "metadata": {
    "colab": {
      "provenance": [],
      "authorship_tag": "ABX9TyOiS7KMCogFMKJ93BSWSs7W",
      "include_colab_link": true
    },
    "kernelspec": {
      "name": "python3",
      "display_name": "Python 3"
    },
    "language_info": {
      "name": "python"
    }
  },
  "cells": [
    {
      "cell_type": "markdown",
      "metadata": {
        "id": "view-in-github",
        "colab_type": "text"
      },
      "source": [
        "<a href=\"https://colab.research.google.com/github/twotablepush/RobokitRS/blob/main/04_%EC%B0%A8%EB%9F%89%EC%A0%9C%EC%96%B4%EC%8B%9C%EC%8A%A4%ED%85%9C%EC%9D%98_%EA%B5%AC%EC%84%B1.ipynb\" target=\"_parent\"><img src=\"https://colab.research.google.com/assets/colab-badge.svg\" alt=\"Open In Colab\"/></a>"
      ]
    },
    {
      "cell_type": "markdown",
      "source": [
        "# 모빌리티 제어시스템 구성요소\n",
        "- 센서 : 주변 환경의 상태를 감지하기 위해 다양한 센서를 사용한다. 예를 들어 자동차의 경우 레이더, 카메라, 초음파 센서 등을 사용하여 주변의 차량, 보행자, 장애물 등을 감지한다.\n",
        "\n",
        "- 엑추에이터 : 센서로부터 수집한 정보를 기반으로 행동을 결정하고 실행하기 위해 엑추에이터를 사용한다. 자동차의 경우 엑추에이터로는 엔진, 브레이크, 조향장치 등이 있으며, 이를 통해 차량의 가속, 감속, 방향 조절 등이 이루어진다.\n",
        "\n",
        "- 제어 알고리즘 : 센서로부터 수집한 정보를 분석하고, 제어 알고리즘을 사용하여 적절한 행동을 결정한다. 이러한 알고리즘은 주행 안전성, 효율성, 경로 계획 등 다양한 요소를 고려하여 최적의 제어를 수행한다.\n",
        "\n",
        "- 통신 인터페이스 : 다양한 요소들 간의 통신을 위한 인터페이스를 제공한다. 이를 통해 센서 데이터의 전송, 제어 명령의 전달, 외부 시스템과의 연결 등이 이루어진다. 대부분의 모던 모빌리티 시스템은 무선 통신 기술을 사용하여 효율적인 데이터 교환을 지원한다.\n",
        " - CAN(Control Area Network), GPS(Global Positioning System), GSM(Global System for Mobile), LIN(Local Interconnect Network)\n",
        "\n",
        "- 제어 유닛 : 센서, 엑추에이터, 제어 알고리즘 등을 통합하여 제어 유닛에서 중앙 집중식으로 관리한다. 제어 유닛은 센서 테이터를 수집하고, 알고리즘을 실행하여 적절한 제어 명령을 생성하며, 엑츄에이터를 제어한다.\n",
        "\n",
        "- Matrix LED Headlights(EMI reduction)\n",
        "- Engine Control Units(Most robust)\n",
        "- ADAS(Vibration resistant)\n",
        "- Electrical Steering(Most robust)\n",
        "- GNSS Receiver(Dynamic Performance)\n",
        "- Around View Camereas(Smallest size)\n",
        "- Transmission Control Units\n",
        "- Active Suspension\n",
        "- Infotainment system(Always reliable startup in cold)\n",
        "- Ethernet Tightest(stability, wide temp range)\n"
      ],
      "metadata": {
        "id": "_iR6aTboh-8L"
      }
    }
  ]
}